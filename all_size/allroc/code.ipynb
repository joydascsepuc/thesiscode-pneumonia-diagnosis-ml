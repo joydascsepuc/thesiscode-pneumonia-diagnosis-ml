from keras.models import Sequential
from keras.layers import Conv2D
from keras.layers import MaxPooling2D
from keras.layers import Flatten
from keras.layers import Dropout
from keras.layers import Dense
from keras.layers import BatchNormalization
from keras import backend as K
from sklearn.metrics import classification_report, confusion_matrix
from keras.models import load_model
import matplotlib.pyplot as plt
from keras.preprocessing.image import ImageDataGenerator
from sklearn.metrics import roc_curve
from sklearn.metrics import auc
from keras.callbacks import History

test_datagen = ImageDataGenerator(rescale=1./255)

test_set = test_datagen.flow_from_directory('/content/drive/My Drive/x-ray/test',
                                            target_size=(100, 100),
                                            batch_size=50,                                            
                                            class_mode='binary',
                                            shuffle=False)
classifier = None
classifier = Sequential()
classifier.add(Conv2D(32, (3, 3), input_shape = (100, 100, 3), activation = 'relu'))
classifier.add(MaxPooling2D(pool_size = (2, 2)))
classifier.add(Conv2D(64, (3, 3), activation = 'relu'))
classifier.add(MaxPooling2D(pool_size = (2, 2)))
classifier.add(Conv2D(128, (3, 3), activation = 'relu'))
classifier.add(MaxPooling2D(pool_size = (2, 2)))
classifier.add(Conv2D(128, (3, 3), activation = 'relu'))
classifier.add(MaxPooling2D(pool_size = (2, 2)))
classifier.add(Flatten())
classifier.add(Dropout(rate=0.5))
classifier.add(Dense(units = 512, activation = 'relu'))
classifier.add(Dense(units = 1, activation = 'sigmoid'))

classifier.load_weights('/content/drive/My Drive/comparison/100.h5')
yhat=classifier.predict_generator(test_set, steps = test_set.n // test_set.batch_size)
true_labels = test_set.labels.tolist()
pred_labels = [1 if p > 0.5 else 0 for p in yhat.ravel()]
tn, fp, fn, tp = confusion_matrix(true_labels, pred_labels).ravel()
print("True-Positive: %3i   Fasle-Positive: %3i\nFalse-Negatve: %3i   True-Negative: %3i\n" % (tp, fp, fn, tn))
print(
    classification_report(
        true_labels,
        pred_labels,
        target_names=['pneumonia', 'normal']))
fpr_keras_100, tpr_keras_100, thresholds_keras = roc_curve(test_set.classes, yhat[0:4100])
auc_keras_100 = auc(fpr_keras_100, tpr_keras_100)

classifier = None
test_set = None
test_set = test_datagen.flow_from_directory('/content/drive/My Drive/x-ray/test',
                                            target_size=(150, 150),
                                            batch_size=50,                                            
                                            class_mode='binary',
                                            shuffle=False)

classifier = Sequential()
classifier.add(Conv2D(32, (3, 3), input_shape = (150, 150, 3), activation = 'relu'))
classifier.add(MaxPooling2D(pool_size = (2, 2)))
classifier.add(Conv2D(64, (3, 3), activation = 'relu'))
classifier.add(MaxPooling2D(pool_size = (2, 2)))
classifier.add(Conv2D(128, (3, 3), activation = 'relu'))
classifier.add(MaxPooling2D(pool_size = (2, 2)))
classifier.add(Conv2D(128, (3, 3), activation = 'relu'))
classifier.add(MaxPooling2D(pool_size = (2, 2)))
classifier.add(Flatten())
classifier.add(Dropout(rate=0.5))
classifier.add(Dense(units = 512, activation = 'relu'))
classifier.add(Dense(units = 1, activation = 'sigmoid'))

classifier.load_weights('/content/drive/My Drive/comparison/150.h5')
yhat=classifier.predict_generator(test_set, steps = test_set.n // test_set.batch_size)
true_labels = test_set.labels.tolist()
pred_labels = [1 if p > 0.5 else 0 for p in yhat.ravel()]
tn, fp, fn, tp = confusion_matrix(true_labels, pred_labels).ravel()
print("True-Positive: %3i   Fasle-Positive: %3i\nFalse-Negatve: %3i   True-Negative: %3i\n" % (tp, fp, fn, tn))
print(
    classification_report(
        true_labels,
        pred_labels,
        target_names=['pneumonia', 'normal']))
fpr_keras_150, tpr_keras_150, thresholds_keras = roc_curve(test_set.classes, yhat[0:4100])
auc_keras_150 = auc(fpr_keras_150, tpr_keras_150)

classifier = None
test_set = None
test_set = test_datagen.flow_from_directory('/content/drive/My Drive/x-ray/test',
                                            target_size=(200, 200),
                                            batch_size=50,                                            
                                            class_mode='binary',
                                            shuffle=False)

classifier = Sequential()
classifier.add(Conv2D(32, (3, 3), input_shape = (200, 200, 3), activation = 'relu'))
classifier.add(MaxPooling2D(pool_size = (2, 2)))
classifier.add(Conv2D(64, (3, 3), activation = 'relu'))
classifier.add(MaxPooling2D(pool_size = (2, 2)))
classifier.add(Conv2D(128, (3, 3), activation = 'relu'))
classifier.add(MaxPooling2D(pool_size = (2, 2)))
classifier.add(Conv2D(128, (3, 3), activation = 'relu'))
classifier.add(MaxPooling2D(pool_size = (2, 2)))
classifier.add(Flatten())
classifier.add(Dropout(rate=0.5))
classifier.add(Dense(units = 512, activation = 'relu'))
classifier.add(Dense(units = 1, activation = 'sigmoid'))

classifier.load_weights('/content/drive/My Drive/comparison/200.h5')
yhat=classifier.predict_generator(test_set, steps = test_set.n // test_set.batch_size)
true_labels = test_set.labels.tolist()
pred_labels = [1 if p > 0.5 else 0 for p in yhat.ravel()]
tn, fp, fn, tp = confusion_matrix(true_labels, pred_labels).ravel()
print("True-Positive: %3i   Fasle-Positive: %3i\nFalse-Negatve: %3i   True-Negative: %3i\n" % (tp, fp, fn, tn))
print(
    classification_report(
        true_labels,
        pred_labels,
        target_names=['pneumonia', 'normal']))
fpr_keras_200, tpr_keras_200, thresholds_keras = roc_curve(test_set.classes, yhat[0:4100])
auc_keras_200 = auc(fpr_keras_200, tpr_keras_200)

classifier = None
test_set = None
test_set = test_datagen.flow_from_directory('/content/drive/My Drive/x-ray/test',
                                            target_size=(250, 250),
                                            batch_size=50,                                            
                                            class_mode='binary',
                                            shuffle=False)

classifier = Sequential()
classifier.add(Conv2D(32, (3, 3), input_shape = (250, 250, 3), activation = 'relu'))
classifier.add(MaxPooling2D(pool_size = (2, 2)))
classifier.add(Conv2D(64, (3, 3), activation = 'relu'))
classifier.add(MaxPooling2D(pool_size = (2, 2)))
classifier.add(Conv2D(128, (3, 3), activation = 'relu'))
classifier.add(MaxPooling2D(pool_size = (2, 2)))
classifier.add(Conv2D(128, (3, 3), activation = 'relu'))
classifier.add(MaxPooling2D(pool_size = (2, 2)))
classifier.add(Flatten())
classifier.add(Dropout(rate=0.5))
classifier.add(Dense(units = 512, activation = 'relu'))
classifier.add(Dense(units = 1, activation = 'sigmoid'))

classifier.load_weights('/content/drive/My Drive/comparison/250.h5')
yhat=classifier.predict_generator(test_set, steps = test_set.n // test_set.batch_size)
true_labels = test_set.labels.tolist()
pred_labels = [1 if p > 0.5 else 0 for p in yhat.ravel()]
tn, fp, fn, tp = confusion_matrix(true_labels, pred_labels).ravel()
print("True-Positive: %3i   Fasle-Positive: %3i\nFalse-Negatve: %3i   True-Negative: %3i\n" % (tp, fp, fn, tn))
print(
    classification_report(
        true_labels,
        pred_labels,
        target_names=['pneumonia', 'normal']))
fpr_keras_250, tpr_keras_250, thresholds_keras = roc_curve(test_set.classes, yhat[0:4100])
auc_keras_250 = auc(fpr_keras_250, tpr_keras_250)

classifier = None
test_set = None
test_set = test_datagen.flow_from_directory('/content/drive/My Drive/x-ray/test',
                                            target_size=(300, 300),
                                            batch_size=50,                                            
                                            class_mode='binary',
                                            shuffle=False)


classifier = Sequential()
classifier.add(Conv2D(32, (3, 3), input_shape = (300, 300, 3), activation = 'relu'))
classifier.add(MaxPooling2D(pool_size = (2, 2)))
classifier.add(Conv2D(64, (3, 3), activation = 'relu'))
classifier.add(MaxPooling2D(pool_size = (2, 2)))
classifier.add(Conv2D(128, (3, 3), activation = 'relu'))
classifier.add(MaxPooling2D(pool_size = (2, 2)))
classifier.add(Conv2D(128, (3, 3), activation = 'relu'))
classifier.add(MaxPooling2D(pool_size = (2, 2)))
classifier.add(Flatten())
classifier.add(Dropout(rate=0.5))
classifier.add(Dense(units = 512, activation = 'relu'))
classifier.add(Dense(units = 1, activation = 'sigmoid'))

classifier.load_weights('/content/drive/My Drive/comparison/300.h5')
yhat=classifier.predict_generator(test_set, steps = test_set.n // test_set.batch_size)
true_labels = test_set.labels.tolist()
pred_labels = [1 if p > 0.5 else 0 for p in yhat.ravel()]
tn, fp, fn, tp = confusion_matrix(true_labels, pred_labels).ravel()
print("True-Positive: %3i   Fasle-Positive: %3i\nFalse-Negatve: %3i   True-Negative: %3i\n" % (tp, fp, fn, tn))
print(
    classification_report(
        true_labels,
        pred_labels,
        target_names=['pneumonia', 'normal']))
fpr_keras_300, tpr_keras_300, thresholds_keras = roc_curve(test_set.classes, yhat[0:4100])
auc_keras_300 = auc(fpr_keras_300, tpr_keras_300)

plt.figure(1)
plt.plot([0, 1], [0, 1], 'k--')
plt.plot(fpr_keras_100, tpr_keras_100, label='100*100 (area = {:.3f})'.format(auc_keras_100))
plt.plot(fpr_keras_150, tpr_keras_150, label='150*150 (area = {:.3f})'.format(auc_keras_150))
plt.plot(fpr_keras_200, tpr_keras_200, label='200*200 (area = {:.3f})'.format(auc_keras_200))
plt.plot(fpr_keras_250, tpr_keras_250, label='250*250 (area = {:.3f})'.format(auc_keras_250))
plt.plot(fpr_keras_300, tpr_keras_300, label='300*300 (area = {:.3f})'.format(auc_keras_300))

plt.xlabel('False positive rate')
plt.ylabel('True positive rate')
plt.title('ROC curve')
plt.legend(loc='best')
plt.title("Comparison", fontsize=14)
plt.show()