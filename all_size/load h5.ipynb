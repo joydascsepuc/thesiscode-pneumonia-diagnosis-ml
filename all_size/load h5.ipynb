from keras.models import load_model
import tensorflow as tf
from keras.models import Sequential
from keras.layers import Conv2D
from keras.layers import MaxPooling2D
from keras.layers import Flatten
from keras.layers import Dropout
from keras.layers import Dense
from keras.layers import BatchNormalization
from keras import backend as K
from sklearn.metrics import classification_report, confusion_matrix
from keras.preprocessing.image import ImageDataGenerator
from sklearn.metrics import roc_curve
from sklearn.metrics import auc
import matplotlib.pyplot as plt

test_datagen = ImageDataGenerator(rescale=1./255)

print("For 100 by 100 Dimension: \n\n")
test_set_100 = test_datagen.flow_from_directory('/content/drive/My Drive/x-ray/test',
                                            target_size=(250, 250),
                                            batch_size=50,                                            
                                            class_mode='binary',
                                            shuffle=False)

classifier = Sequential()
classifier.add(Conv2D(32, (3, 3), input_shape = (250, 250, 3), activation = 'relu'))
classifier.add(MaxPooling2D(pool_size = (2, 2)))
classifier.add(Conv2D(64, (3, 3), activation = 'relu'))
classifier.add(MaxPooling2D(pool_size = (2, 2)))
classifier.add(Conv2D(128, (3, 3), activation = 'relu'))
classifier.add(MaxPooling2D(pool_size = (2, 2)))
classifier.add(Conv2D(128, (3, 3), activation = 'relu'))
classifier.add(MaxPooling2D(pool_size = (2, 2)))
classifier.add(Flatten())
classifier.add(Dropout(rate=0.5))
classifier.add(Dense(units = 512, activation = 'relu'))
classifier.add(Dense(units = 1, activation = 'sigmoid'))

classifier.load_weights('/content/drive/My Drive/comparison/250.h5')

yhat_100=classifier.predict_generator(test_set_100, steps = test_set_100.n // test_set_100.batch_size)
true_labels = test_set_100.labels.tolist()
pred_labels = [1 if p > 0.5 else 0 for p in yhat_100.ravel()]
tn, fp, fn, tp = confusion_matrix(true_labels, pred_labels).ravel()

print("True-Positive: %3i   Fasle-Positive: %3i\nFalse-Negatve: %3i   True-Negative: %3i\n" % (tp, fp, fn, tn))
print(
    classification_report(
        true_labels,
        pred_labels,
        target_names=['pneumonia', 'normal']))
fpr_keras_100, tpr_keras_100, thresholds_keras_100 = roc_curve(test_set_100.classes, yhat_100[0:4108])
auc_keras_100 = auc(fpr_keras_100, tpr_keras_100)

plt.figure(1)
plt.plot([0, 1], [0, 1], 'k--')
plt.plot(fpr_keras_100, tpr_keras_100, label='100*100 (area = {:.3f})'.format(auc_keras_100))

plt.xlabel('False positive rate')
plt.ylabel('True positive rate')
plt.title('ROC curve')
plt.legend(loc='best')
plt.title("All ROC curve Comparison", fontsize=16)
plt.show()