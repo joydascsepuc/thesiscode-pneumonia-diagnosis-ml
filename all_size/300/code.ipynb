from keras.models import Sequential
from keras.layers import Conv2D
from keras.layers import MaxPooling2D
from keras.layers import Flatten
from keras.layers import Dropout
from keras.layers import Dense
from keras.layers import BatchNormalization
from keras import backend as K
from sklearn.metrics import classification_report, confusion_matrix
from keras.models import load_model
import matplotlib.pyplot as plt
from keras.preprocessing.image import ImageDataGenerator
from sklearn.metrics import roc_curve
from sklearn.metrics import auc
from keras.callbacks import History

classifier = Sequential()

classifier.add(Conv2D(32, (3, 3), input_shape = (300, 300, 3), activation = 'relu'))
classifier.add(MaxPooling2D(pool_size = (2, 2)))

classifier.add(Conv2D(64, (3, 3), activation = 'relu'))
classifier.add(MaxPooling2D(pool_size = (2, 2)))

classifier.add(Conv2D(128, (3, 3), activation = 'relu'))
classifier.add(MaxPooling2D(pool_size = (2, 2)))

classifier.add(Conv2D(128, (3, 3), activation = 'relu'))
classifier.add(MaxPooling2D(pool_size = (2, 2)))

classifier.add(Flatten())
classifier.add(Dropout(rate=0.5))

classifier.add(Dense(units = 512, activation = 'relu'))
classifier.add(Dense(units = 1, activation = 'sigmoid'))

classifier.summary()

def recall_m(y_true, y_pred):
        true_positives = K.sum(K.round(K.clip(y_true * y_pred, 0, 1)))
        possible_positives = K.sum(K.round(K.clip(y_true, 0, 1)))
        recall = true_positives / (possible_positives + K.epsilon())
        return recall

def precision_m(y_true, y_pred):
        true_positives = K.sum(K.round(K.clip(y_true * y_pred, 0, 1)))
        predicted_positives = K.sum(K.round(K.clip(y_pred, 0, 1)))
        precision = true_positives / (predicted_positives + K.epsilon())
        return precision

def f1_m(y_true, y_pred):
    precision = precision_m(y_true, y_pred)
    recall = recall_m(y_true, y_pred)
    return 2*((precision*recall)/(precision+recall+K.epsilon()))


classifier.compile(optimizer = 'adam', loss = 'binary_crossentropy', metrics = ['accuracy',f1_m,precision_m,recall_m])


train_datagen = ImageDataGenerator(
        rescale=1./255,
        shear_range=0.2,
        zoom_range=0.2,
        horizontal_flip=True,
        fill_mode='nearest')

test_datagen = ImageDataGenerator(rescale=1./255)

training_set = train_datagen.flow_from_directory('/content/drive/My Drive/x-ray/train',
                                                 target_size=(300, 300),
                                                 batch_size=50,
                                                 class_mode='binary',
                                                 shuffle=True)

test_set = test_datagen.flow_from_directory('/content/drive/My Drive/x-ray/test',
                                            target_size=(300, 300),
                                            batch_size=50,                                            
                                            class_mode='binary',
                                            shuffle=False)

validation_set = test_datagen.flow_from_directory('/content/drive/My Drive/x-ray/validation',
                                            target_size=(300, 300),
                                            batch_size=12,                                            
                                            class_mode='binary',
                                            shuffle=False)                                          


history=classifier.fit_generator(
                                training_set,
                                steps_per_epoch=82,
                                epochs=100,
                                validation_data=validation_set,
                                validation_steps=4)

classifier.save_weights("/content/drive/My Drive/300.h5")

# list all data in history
print(history.history.keys())
# summarize history for accuracy
plt.plot(history.history['acc'])
plt.plot(history.history['val_acc'])
plt.title('model accuracy')
plt.ylabel('accuracy')
plt.xlabel('epoch')
plt.legend(['train', 'test'], loc='upper left')
plt.show()

# summarize history for loss
plt.plot(history.history['loss'])
plt.plot(history.history['val_loss'])
plt.title('model loss')
plt.ylabel('loss')
plt.xlabel('epoch')
plt.legend(['train', 'test'], loc='upper left')
plt.show()

yhat=classifier.predict_generator(test_set, steps = test_set.n // test_set.batch_size)

true_labels = test_set.labels.tolist()
pred_labels = [1 if p > 0.5 else 0 for p in yhat.ravel()]


tn, fp, fn, tp = confusion_matrix(true_labels, pred_labels).ravel()
print("True-Positive: %3i   Fasle-Positive: %3i\nFalse-Negatve: %3i   True-Negative: %3i\n" % (tp, fp, fn, tn))


print(
    classification_report(
        true_labels,
        pred_labels,
        target_names=['pneumonia', 'normal']))


fpr_keras, tpr_keras, thresholds_keras = roc_curve(test_set.classes, yhat[0:4000])
auc_keras = auc(fpr_keras, tpr_keras)

plt.figure(1)
plt.plot([0, 1], [0, 1], 'k--')
plt.plot(fpr_keras, tpr_keras, label='Keras (area = {:.3f})'.format(auc_keras))

plt.xlabel('False positive rate')
plt.ylabel('True positive rate')
plt.title('ROC curve')
plt.legend(loc='best')
plt.show()