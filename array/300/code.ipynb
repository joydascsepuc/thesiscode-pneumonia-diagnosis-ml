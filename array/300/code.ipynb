from keras.models import Sequential
from keras.layers import Conv2D
from keras.layers import MaxPooling2D
from keras.layers import Flatten
from keras.layers import Dropout
from keras.layers import Dense
from keras.layers import BatchNormalization
from keras import backend as K
from sklearn.metrics import classification_report, confusion_matrix
from keras.models import load_model
import matplotlib.pyplot as plt
from keras.preprocessing.image import ImageDataGenerator
from sklearn.metrics import roc_curve
from sklearn.metrics import auc
from keras.callbacks import History

classifier = Sequential()
classifier.add(Conv2D(32, (3, 3), input_shape = (300, 300, 3), activation = 'relu'))
classifier.add(MaxPooling2D(pool_size = (2, 2)))
classifier.add(Conv2D(64, (3, 3), activation = 'relu'))
classifier.add(MaxPooling2D(pool_size = (2, 2)))
classifier.add(Conv2D(128, (3, 3), activation = 'relu'))
classifier.add(MaxPooling2D(pool_size = (2, 2)))
classifier.add(Conv2D(128, (3, 3), activation = 'relu'))
classifier.add(MaxPooling2D(pool_size = (2, 2)))
classifier.add(Flatten())
classifier.add(Dropout(rate=0.5))
classifier.add(Dense(units = 512, activation = 'relu'))
classifier.add(Dense(units = 1, activation = 'sigmoid'))

classifier.compile(optimizer = 'adam', loss = 'binary_crossentropy', metrics = ['accuracy'])

train_datagen = ImageDataGenerator(
        rescale=1./255,
        shear_range=0.2,
        zoom_range=0.2,
        horizontal_flip=True,
        fill_mode='nearest')

test_datagen = ImageDataGenerator(rescale=1./255)

training_set = train_datagen.flow_from_directory('/content/drive/My Drive/x-ray/train',
                                                 target_size=(300, 300),
                                                 batch_size=50,
                                                 class_mode='binary',
                                                 shuffle=True)

test_set = test_datagen.flow_from_directory('/content/drive/My Drive/x-ray/test',
                                            target_size=(300, 300),
                                            batch_size=50,                                            
                                            class_mode='binary',
                                            shuffle=False)

validation_set = test_datagen.flow_from_directory('/content/drive/My Drive/x-ray/validation',
                                            target_size=(300, 300),
                                            batch_size=12,                                            
                                            class_mode='binary',
                                            shuffle=False)

history=classifier.fit_generator(
                                training_set,
                                steps_per_epoch=82,
                                epochs=100,
                                validation_data=validation_set,
                                validation_steps=4)

print(history.history.keys())
accuracy_100 = history.history['acc']
val_accuracy_100 = history.history['val_acc']
loss_100 = history.history['loss']
val_loss_100 = history.history['val_loss']


print("\n\n\nTrain Accuracy\n\n\n")
print(accuracy_100)
print("\n\n\nTest Accuracy\n\n\n")
print(val_accuracy_100)
print("\n\n\nTrain Loss\n\n\n")
print(loss_100)
print("\n\n\nTest Loss\n\n\n")
print(val_loss_100)
