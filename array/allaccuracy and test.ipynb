from keras.models import Sequential
from keras.layers import Conv2D
from keras.layers import MaxPooling2D
from keras.layers import Flatten
from keras.layers import Dropout
from keras.layers import Dense
from keras.layers import BatchNormalization
from keras import backend as K
from sklearn.metrics import classification_report, confusion_matrix
from keras.models import load_model
import matplotlib.pyplot as plt
from keras.preprocessing.image import ImageDataGenerator
from sklearn.metrics import roc_curve
from sklearn.metrics import auc
from keras.callbacks import History

classifier = Sequential()
classifier.add(Conv2D(32, (3, 3), input_shape = (100, 100, 3), activation = 'relu'))
classifier.add(MaxPooling2D(pool_size = (2, 2)))
classifier.add(Conv2D(64, (3, 3), activation = 'relu'))
classifier.add(MaxPooling2D(pool_size = (2, 2)))
classifier.add(Conv2D(128, (3, 3), activation = 'relu'))
classifier.add(MaxPooling2D(pool_size = (2, 2)))
classifier.add(Conv2D(128, (3, 3), activation = 'relu'))
classifier.add(MaxPooling2D(pool_size = (2, 2)))
classifier.add(Flatten())
classifier.add(Dropout(rate=0.5))
classifier.add(Dense(units = 512, activation = 'relu'))
classifier.add(Dense(units = 1, activation = 'sigmoid'))

classifier.compile(optimizer = 'adam', loss = 'binary_crossentropy', metrics = ['accuracy'])

train_datagen = ImageDataGenerator(
        rescale=1./255,
        shear_range=0.2,
        zoom_range=0.2,
        horizontal_flip=True,
        fill_mode='nearest')

test_datagen = ImageDataGenerator(rescale=1./255)

training_set = train_datagen.flow_from_directory('/content/drive/My Drive/x-ray/train',
                                                 target_size=(100, 100),
                                                 batch_size=50,
                                                 class_mode='binary',
                                                 shuffle=True)

test_set = test_datagen.flow_from_directory('/content/drive/My Drive/x-ray/test',
                                            target_size=(100, 100),
                                            batch_size=50,                                            
                                            class_mode='binary',
                                            shuffle=False)

validation_set = test_datagen.flow_from_directory('/content/drive/My Drive/x-ray/validation',
                                            target_size=(100, 100),
                                            batch_size=12,                                            
                                            class_mode='binary',
                                            shuffle=False)

history=classifier.fit_generator(
                                training_set,
                                steps_per_epoch=82,
                                epochs=100,
                                validation_data=validation_set,
                                validation_steps=4)
print(history.history.keys())
accuracy_100 = history.history['acc']
val_accuracy_100 = history.history['val_acc']
loss_100 = history.history['loss']
val_loss_100 = history.history['val_loss']

history = None
training_set = None
classifier = None

classifier = Sequential()
classifier.add(Conv2D(32, (3, 3), input_shape = (150, 150, 3), activation = 'relu'))
classifier.add(MaxPooling2D(pool_size = (2, 2)))
classifier.add(Conv2D(64, (3, 3), activation = 'relu'))
classifier.add(MaxPooling2D(pool_size = (2, 2)))
classifier.add(Conv2D(128, (3, 3), activation = 'relu'))
classifier.add(MaxPooling2D(pool_size = (2, 2)))
classifier.add(Conv2D(128, (3, 3), activation = 'relu'))
classifier.add(MaxPooling2D(pool_size = (2, 2)))
classifier.add(Flatten())
classifier.add(Dropout(rate=0.5))
classifier.add(Dense(units = 512, activation = 'relu'))
classifier.add(Dense(units = 1, activation = 'sigmoid'))

classifier.compile(optimizer = 'adam', loss = 'binary_crossentropy', metrics = ['accuracy'])

train_datagen = ImageDataGenerator(
        rescale=1./255,
        shear_range=0.2,
        zoom_range=0.2,
        horizontal_flip=True,
        fill_mode='nearest')

test_datagen = ImageDataGenerator(rescale=1./255)

training_set = train_datagen.flow_from_directory('/content/drive/My Drive/x-ray/train',
                                                 target_size=(150, 150),
                                                 batch_size=50,
                                                 class_mode='binary',
                                                 shuffle=True)

test_set = test_datagen.flow_from_directory('/content/drive/My Drive/x-ray/test',
                                            target_size=(150, 150),
                                            batch_size=50,                                            
                                            class_mode='binary',
                                            shuffle=False)

validation_set = test_datagen.flow_from_directory('/content/drive/My Drive/x-ray/validation',
                                            target_size=(150, 150),
                                            batch_size=12,                                            
                                            class_mode='binary',
                                            shuffle=False)

history=classifier.fit_generator(
                                training_set,
                                steps_per_epoch=82,
                                epochs=100,
                                validation_data=validation_set,
                                validation_steps=4)

print(history.history.keys())
accuracy_150 = history.history['acc']
val_accuracy_150 = history.history['val_acc']
loss_150 = history.history['loss']
val_loss_150 = history.history['val_loss']

history = None
training_set = None
classifier = None

classifier = Sequential()
classifier.add(Conv2D(32, (3, 3), input_shape = (200, 200, 3), activation = 'relu'))
classifier.add(MaxPooling2D(pool_size = (2, 2)))
classifier.add(Conv2D(64, (3, 3), activation = 'relu'))
classifier.add(MaxPooling2D(pool_size = (2, 2)))
classifier.add(Conv2D(128, (3, 3), activation = 'relu'))
classifier.add(MaxPooling2D(pool_size = (2, 2)))
classifier.add(Conv2D(128, (3, 3), activation = 'relu'))
classifier.add(MaxPooling2D(pool_size = (2, 2)))
classifier.add(Flatten())
classifier.add(Dropout(rate=0.5))
classifier.add(Dense(units = 512, activation = 'relu'))
classifier.add(Dense(units = 1, activation = 'sigmoid'))

classifier.compile(optimizer = 'adam', loss = 'binary_crossentropy', metrics = ['accuracy'])

train_datagen = ImageDataGenerator(
        rescale=1./255,
        shear_range=0.2,
        zoom_range=0.2,
        horizontal_flip=True,
        fill_mode='nearest')

test_datagen = ImageDataGenerator(rescale=1./255)

training_set = train_datagen.flow_from_directory('/content/drive/My Drive/x-ray/train',
                                                 target_size=(200, 200),
                                                 batch_size=50,
                                                 class_mode='binary',
                                                 shuffle=True)

test_set = test_datagen.flow_from_directory('/content/drive/My Drive/x-ray/test',
                                            target_size=(200, 200),
                                            batch_size=50,                                            
                                            class_mode='binary',
                                            shuffle=False)

validation_set = test_datagen.flow_from_directory('/content/drive/My Drive/x-ray/validation',
                                            target_size=(200, 200),
                                            batch_size=12,                                            
                                            class_mode='binary',
                                            shuffle=False)

history=classifier.fit_generator(
                                training_set,
                                steps_per_epoch=82,
                                epochs=100,
                                validation_data=validation_set,
                                validation_steps=4)

print(history.history.keys())
accuracy_200 = history.history['acc']
val_accuracy_200 = history.history['val_acc']
loss_200 = history.history['loss']
val_loss_200 = history.history['val_loss']

history = None
training_set = None
classifier = None

classifier = Sequential()
classifier.add(Conv2D(32, (3, 3), input_shape = (250, 250, 3), activation = 'relu'))
classifier.add(MaxPooling2D(pool_size = (2, 2)))
classifier.add(Conv2D(64, (3, 3), activation = 'relu'))
classifier.add(MaxPooling2D(pool_size = (2, 2)))
classifier.add(Conv2D(128, (3, 3), activation = 'relu'))
classifier.add(MaxPooling2D(pool_size = (2, 2)))
classifier.add(Conv2D(128, (3, 3), activation = 'relu'))
classifier.add(MaxPooling2D(pool_size = (2, 2)))
classifier.add(Flatten())
classifier.add(Dropout(rate=0.5))
classifier.add(Dense(units = 512, activation = 'relu'))
classifier.add(Dense(units = 1, activation = 'sigmoid'))

classifier.compile(optimizer = 'adam', loss = 'binary_crossentropy', metrics = ['accuracy'])

train_datagen = ImageDataGenerator(
        rescale=1./255,
        shear_range=0.2,
        zoom_range=0.2,
        horizontal_flip=True,
        fill_mode='nearest')

test_datagen = ImageDataGenerator(rescale=1./255)

training_set = train_datagen.flow_from_directory('/content/drive/My Drive/x-ray/train',
                                                 target_size=(250, 250),
                                                 batch_size=50,
                                                 class_mode='binary',
                                                 shuffle=True)

test_set = test_datagen.flow_from_directory('/content/drive/My Drive/x-ray/test',
                                            target_size=(250, 250),
                                            batch_size=50,                                            
                                            class_mode='binary',
                                            shuffle=False)

validation_set = test_datagen.flow_from_directory('/content/drive/My Drive/x-ray/validation',
                                            target_size=(250, 250),
                                            batch_size=12,                                            
                                            class_mode='binary',
                                            shuffle=False)

history=classifier.fit_generator(
                                training_set,
                                steps_per_epoch=82,
                                epochs=100,
                                validation_data=validation_set,
                                validation_steps=4)

print(history.history.keys())
accuracy_250 = history.history['acc']
val_accuracy_250 = history.history['val_acc']
loss_250 = history.history['loss']
val_loss_250 = history.history['val_loss']

history = None
training_set = None
classifier = None

classifier = Sequential()
classifier.add(Conv2D(32, (3, 3), input_shape = (300, 300, 3), activation = 'relu'))
classifier.add(MaxPooling2D(pool_size = (2, 2)))
classifier.add(Conv2D(64, (3, 3), activation = 'relu'))
classifier.add(MaxPooling2D(pool_size = (2, 2)))
classifier.add(Conv2D(128, (3, 3), activation = 'relu'))
classifier.add(MaxPooling2D(pool_size = (2, 2)))
classifier.add(Conv2D(128, (3, 3), activation = 'relu'))
classifier.add(MaxPooling2D(pool_size = (2, 2)))
classifier.add(Flatten())
classifier.add(Dropout(rate=0.5))
classifier.add(Dense(units = 512, activation = 'relu'))
classifier.add(Dense(units = 1, activation = 'sigmoid'))

classifier.compile(optimizer = 'adam', loss = 'binary_crossentropy', metrics = ['accuracy'])

train_datagen = ImageDataGenerator(
        rescale=1./255,
        shear_range=0.2,
        zoom_range=0.2,
        horizontal_flip=True,
        fill_mode='nearest')

test_datagen = ImageDataGenerator(rescale=1./255)

training_set = train_datagen.flow_from_directory('/content/drive/My Drive/x-ray/train',
                                                 target_size=(300, 300),
                                                 batch_size=50,
                                                 class_mode='binary',
                                                 shuffle=True)

test_set = test_datagen.flow_from_directory('/content/drive/My Drive/x-ray/test',
                                            target_size=(300, 300),
                                            batch_size=50,                                            
                                            class_mode='binary',
                                            shuffle=False)

validation_set = test_datagen.flow_from_directory('/content/drive/My Drive/x-ray/validation',
                                            target_size=(300, 300),
                                            batch_size=12,                                            
                                            class_mode='binary',
                                            shuffle=False)

history=classifier.fit_generator(
                                training_set,
                                steps_per_epoch=82,
                                epochs=100,
                                validation_data=validation_set,
                                validation_steps=4)

print(history.history.keys())
accuracy_300 = history.history['acc']
val_accuracy_300 = history.history['val_acc']
loss_300 = history.history['loss']
val_loss_300 = history.history['val_loss']

plt.plot(accuracy_100)
plt.plot(accuracy_150)
plt.plot(accuracy_200)
plt.plot(accuracy_250)
plt.plot(accuracy_300)
plt.title('Train accuracy')
plt.ylabel('accuracy')
plt.xlabel('epoch')
plt.legend(['100', '150', '200', '250', '300'], loc='upper left')
plt.show()

plt.plot(val_accuracy_100)
plt.plot(val_accuracy_150)
plt.plot(val_accuracy_200)
plt.plot(val_accuracy_250)
plt.plot(val_accuracy_300)
plt.title('Test accuracy')
plt.ylabel('accuracy')
plt.xlabel('epoch')
plt.legend(['100', '150', '200', '250', '300'], loc='upper left')
plt.show()

plt.plot(loss_100)
plt.plot(loss_150)
plt.plot(loss_200)
plt.plot(loss_250)
plt.plot(loss_300)
plt.title('Training loss')
plt.ylabel('loss')
plt.xlabel('epoch')
plt.legend(['100', '150', '200', '250', '300'], loc='upper left')
plt.show()

plt.plot(val_loss_100)
plt.plot(val_loss_150)
plt.plot(val_loss_200)
plt.plot(val_loss_250)
plt.plot(val_loss_300)
plt.title('Test loss')
plt.ylabel('loss')
plt.xlabel('epoch')
plt.legend(['100', '150', '200', '250', '300'], loc='upper left')
plt.show()